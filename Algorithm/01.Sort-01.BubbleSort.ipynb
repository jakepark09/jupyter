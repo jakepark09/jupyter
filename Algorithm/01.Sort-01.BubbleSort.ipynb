{
 "cells": [
  {
   "cell_type": "markdown",
   "metadata": {
    "collapsed": true,
    "pycharm": {
     "name": "#%% md\n"
    }
   },
   "source": [
    "## 01.Sort - 01.Bubble Sort\n",
    "### 1. 정렬 방식\n",
    "- 두 인접한 데이터를 비교해서, 앞에 있는 데이터가 뒤에 있는 데이터보다 크면, 자리를 바꾸는 알고리즘\n",
    "  ![bubble sort](https://upload.wikimedia.org/wikipedia/commons/c/c8/Bubble-sort-example-300px.gif)\n",
    "  > 출처: https://en.wikipedia.org/wiki/Bubble_sort\n",
    "\n",
    "### 2. 구현"
   ]
  },
  {
   "cell_type": "code",
   "execution_count": 24,
   "metadata": {
    "pycharm": {
     "name": "#%%\n"
    }
   },
   "outputs": [
    {
     "name": "stdout",
     "output_type": "stream",
     "text": [
      "[30, 18, 33, 6, 96, 73, 22, 28, 58, 40, 72, 32, 86, 45, 15, 48, 24, 4, 53, 61, 84, 60, 67, 37, 100, 70, 8, 94, 64, 81, 12, 52, 21, 26, 63, 16, 92, 77, 35, 99, 1, 34, 69, 25, 11, 82, 41, 51, 98, 43, 62, 38, 56, 13, 5, 91, 31, 54, 17, 80, 85, 97, 23, 55, 3, 29, 39, 50, 68, 79, 44, 10, 19, 36, 57, 42, 14, 20, 47, 9, 49, 78, 46, 27, 66, 2, 71, 65, 59, 87, 89, 74, 7, 88, 83, 76, 75, 93, 90, 95]\n"
     ]
    }
   ],
   "source": [
    "# 랜덤 배열 생성\n",
    "import random as rd\n",
    "arr = rd.sample(range(1,101), 100)\n",
    "print(arr)"
   ]
  },
  {
   "cell_type": "code",
   "execution_count": null,
   "metadata": {
    "pycharm": {
     "name": "#%%\n"
    }
   },
   "outputs": [],
   "source": [
    "def bubble_sort(array):\n",
    "  for i in range(len(array) - 1):\n",
    "    # 아래 for문에서 swap이 한번도 되지 않았으면 배열이 정렬 되어 있는 것임.\n",
    "    is_sorted = True\n",
    "    for j in range(len(array) - i - 1):\n",
    "      if array[j] > array[j+1]:\n",
    "        array[j], array[j+1] = array[j+1], array[j]\n",
    "        is_sorted = False;\n",
    "    if is_sorted: break;"
   ]
  },
  {
   "cell_type": "code",
   "execution_count": null,
   "metadata": {
    "pycharm": {
     "name": "#%%\n"
    }
   },
   "outputs": [],
   "source": [
    "bubble_sort(arr)\n",
    "\n",
    "print(arr)"
   ]
  },
  {
   "cell_type": "markdown",
   "metadata": {
    "pycharm": {
     "name": "#%% md\n"
    }
   },
   "source": [
    "### 3. 알고리즘 분석\n",
    "- 반복문 2중으로 사용 $ O(n^2) $\n",
    "  + 최악의 경우, $ \\frac {n  (n-1)} { 2 } $\n",
    "- 완전 정렬이 되어 있을 경우, 최선은 $ O(n) $\n",
    "\n",
    "\n"
   ]
  }
 ],
 "metadata": {
  "kernelspec": {
   "display_name": "Python 3",
   "language": "python",
   "name": "python3"
  },
  "language_info": {
   "codemirror_mode": {
    "name": "ipython",
    "version": 3
   },
   "file_extension": ".py",
   "mimetype": "text/x-python",
   "name": "python",
   "nbconvert_exporter": "python",
   "pygments_lexer": "ipython3",
   "version": "3.9.5"
  }
 },
 "nbformat": 4,
 "nbformat_minor": 1
}
