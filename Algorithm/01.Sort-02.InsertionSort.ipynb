{
 "cells": [
  {
   "cell_type": "markdown",
   "metadata": {
    "collapsed": true,
    "pycharm": {
     "name": "#%% md\n"
    }
   },
   "source": [
    "## 01.Sort - 02.Insertion Sort\n",
    "### 1. 정렬 방식\n",
    "- 2번째 인덱스부터 시작\n",
    "- 해당 인덱스의 값 앞에 있는 데이터A 를 비교하여\n",
    "  key 값이 더 작으면, A를 뒤 인덱스로 복사\n",
    "  ![insertion sort](https://upload.wikimedia.org/wikipedia/commons/9/9c/Insertion-sort-example.gif)\n",
    "  > 출처: https://commons.wikimedia.org/wiki/File:Insertion-sort-example.gif\n",
    "\n",
    "### 2. 구현"
   ]
  },
  {
   "cell_type": "code",
   "execution_count": 19,
   "outputs": [
    {
     "name": "stdout",
     "output_type": "stream",
     "text": [
      "[70, 84, 27, 12, 29, 50, 60, 93, 45, 14, 48, 5, 77, 54, 87, 71, 57, 17, 80, 62, 99, 90, 69, 43, 75, 66, 92, 40, 24, 68, 35, 44, 73, 39, 21, 3, 31, 56, 33, 100, 1, 61, 52, 67, 10, 82, 26, 98, 9, 79, 59, 53, 11, 65, 97, 94, 36, 2, 28, 81, 46, 37, 86, 23, 89, 49, 74, 55, 32, 72, 63, 51, 7, 22, 42, 41, 78, 19, 88, 76, 64, 34, 15, 83, 95, 58, 4, 96, 20, 38, 91, 16, 6, 25, 18, 47, 8, 30, 85, 13]\n"
     ]
    }
   ],
   "source": [
    "# 랜덤 배열 생성\n",
    "import random as rd\n",
    "arr = rd.sample(range(1,101), 100)\n",
    "print(arr)"
   ],
   "metadata": {
    "collapsed": false,
    "pycharm": {
     "name": "#%%\n"
    }
   }
  },
  {
   "cell_type": "code",
   "execution_count": 20,
   "outputs": [],
   "source": [
    "def insertion_sort(array):\n",
    "  for i in range(len(array) - 1):\n",
    "    for j in range(i+1, 0, -1):\n",
    "      if array[j] < array[j-1]:\n",
    "        array[j], array[j-1] = array[j-1], array[j]"
   ],
   "metadata": {
    "collapsed": false,
    "pycharm": {
     "name": "#%%\n"
    }
   }
  },
  {
   "cell_type": "code",
   "execution_count": 18,
   "outputs": [
    {
     "name": "stdout",
     "output_type": "stream",
     "text": [
      "[1, 2, 3, 4, 5, 6, 7, 8, 9, 10, 11, 12, 13, 14, 15, 16, 17, 18, 19, 20, 21, 22, 23, 24, 25, 26, 27, 28, 29, 30, 31, 32, 33, 34, 35, 36, 37, 38, 39, 40, 41, 42, 43, 44, 45, 46, 47, 48, 49, 50, 51, 52, 53, 54, 55, 56, 57, 58, 59, 60, 61, 62, 63, 64, 65, 66, 67, 68, 69, 70, 71, 72, 73, 74, 75, 76, 77, 78, 79, 80, 81, 82, 83, 84, 85, 86, 87, 88, 89, 90, 91, 92, 93, 94, 95, 96, 97, 98, 99, 100]\n",
      "[1, 2, 3, 4, 5, 6, 7, 8, 9, 10, 11, 12, 13, 14, 15, 16, 17, 18, 19, 20, 21, 22, 23, 24, 25, 26, 27, 28, 29, 30, 31, 32, 33, 34, 35, 36, 37, 38, 39, 40, 41, 42, 43, 44, 45, 46, 47, 48, 49, 50, 51, 52, 53, 54, 55, 56, 57, 58, 59, 60, 61, 62, 63, 64, 65, 66, 67, 68, 69, 70, 71, 72, 73, 74, 75, 76, 77, 78, 79, 80, 81, 82, 83, 84, 85, 86, 87, 88, 89, 90, 91, 92, 93, 94, 95, 96, 97, 98, 99, 100]\n"
     ]
    }
   ],
   "source": [
    "insertion_sort(arr)\n",
    "print(arr)"
   ],
   "metadata": {
    "collapsed": false,
    "pycharm": {
     "name": "#%%\n"
    }
   }
  },
  {
   "cell_type": "markdown",
   "source": [
    "### 3. 알고리즘 분석\n",
    "- 반복문 2중으로 사용 $ O(n^2) $\n",
    "  + 최악의 경우, $ \\frac {n  (n-1)} { 2 } $\n",
    "- 완전 정렬이 되어 있을 경우, 최선은 $ O(n) $\n",
    "\n",
    "\n"
   ],
   "metadata": {
    "collapsed": false,
    "pycharm": {
     "name": "#%% md\n"
    }
   }
  }
 ],
 "metadata": {
  "kernelspec": {
   "name": "python3",
   "language": "python",
   "display_name": "Python 3"
  },
  "language_info": {
   "codemirror_mode": {
    "name": "ipython",
    "version": 2
   },
   "file_extension": ".py",
   "mimetype": "text/x-python",
   "name": "python",
   "nbconvert_exporter": "python",
   "pygments_lexer": "ipython2",
   "version": "2.7.6"
  }
 },
 "nbformat": 4,
 "nbformat_minor": 0
}