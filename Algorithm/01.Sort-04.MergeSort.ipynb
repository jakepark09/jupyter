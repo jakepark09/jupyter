{
 "cells": [
  {
   "cell_type": "markdown",
   "metadata": {
    "collapsed": true,
    "pycharm": {
     "name": "#%% md\n"
    }
   },
   "source": [
    "## 01.Sort - 04.MergeSort\n",
    "### 1. 정렬 방식\n",
    "- 재귀(recursive) 용법을 활용한 정렬 알고리즘.\n",
    "  1. 리스트를 절반으로 자르고 자른 리스트도 재귀적으로 계속 절반으로 자름.\n",
    "  2. 다시 리스트를 합치면서 정렬하여 올라옴.\n",
    "  3. 결국 정렬된 하나의 리스트 리턴.\n",
    "  ![selection sort](https://upload.wikimedia.org/wikipedia/commons/c/cc/Merge-sort-example-300px.gif)\n",
    "  > 출처: https://en.wikipedia.org/wiki/Selection_sort\n",
    "\n",
    "### 2. 구현"
   ]
  },
  {
   "cell_type": "code",
   "execution_count": 7,
   "outputs": [
    {
     "name": "stdout",
     "output_type": "stream",
     "text": [
      "[60, 64, 87, 78, 57, 15, 69, 55, 40, 48, 91, 66, 28, 10, 85, 21, 67, 39, 29, 63, 90, 18, 46, 13, 70, 84, 49, 75, 44, 2, 41, 74, 22, 9, 79, 72, 62, 50, 71, 37, 76, 35, 54, 92, 34, 4, 99, 96, 88, 6, 51, 53, 61, 82, 98, 77, 65, 27, 86, 97, 38, 73, 23, 33, 45, 19, 11, 80, 83, 24, 7, 36, 59, 5, 31, 94, 100, 56, 42, 81, 89, 93, 17, 1, 30, 14, 3, 26, 43, 16, 52, 8, 58, 68, 32, 20, 95, 12, 25, 47]\n"
     ]
    }
   ],
   "source": [
    "# 랜덤 배열 생성\n",
    "import random as rd\n",
    "arr = rd.sample(range(1,101), 100)\n",
    "print(arr)"
   ],
   "metadata": {
    "collapsed": false,
    "pycharm": {
     "name": "#%%\n"
    }
   }
  },
  {
   "cell_type": "code",
   "execution_count": 24,
   "outputs": [],
   "source": [
    "def merge_sort(arr):\n",
    "  if len(arr) <=1: return arr\n",
    "  mid = len(arr)//2;\n",
    "  left_arr = merge_sort(arr[:mid])\n",
    "  right_arr = merge_sort(arr[mid:])\n",
    "  #print('left:', left_arr, ' right:', right_arr)\n",
    "  return merge(left_arr, right_arr)"
   ],
   "metadata": {
    "collapsed": false,
    "pycharm": {
     "name": "#%%\n"
    }
   }
  },
  {
   "cell_type": "code",
   "execution_count": 25,
   "outputs": [],
   "source": [
    "def merge(left_arr, right_arr):\n",
    "  merged_arr = list()\n",
    "\n",
    "  # left_arr, right_arr 모두 값이 있을 때\n",
    "  while len(left_arr) > 0 and len(right_arr) > 0:\n",
    "    if left_arr[0] < right_arr[0] :\n",
    "      merged_arr.append(left_arr.pop(0))\n",
    "    else :\n",
    "      merged_arr.append(right_arr.pop(0))\n",
    "\n",
    "  # 위 while문이 종료되었다는 것은 left_arr right_arr\n",
    "  # 둘 중 하나가 [] 이 된 것을 의미\n",
    "  # left_arr에 데이터가 있을 경우는 right_arr에 데이터 없음\n",
    "  # left_arr의 데이터 merged_arr로 append\n",
    "  while len(left_arr) > 0 :\n",
    "    merged_arr.append(left_arr.pop(0))\n",
    "  # right_arr에 데이터가 있을 경우는 left_arr에 데이터 없음\n",
    "  # right_arr의 데이터 merged_arr로 append\n",
    "  while len(right_arr) > 0:\n",
    "    merged_arr.append(right_arr.pop(0))\n",
    "  return merged_arr\n"
   ],
   "metadata": {
    "collapsed": false,
    "pycharm": {
     "name": "#%%\n"
    }
   }
  },
  {
   "cell_type": "code",
   "execution_count": 27,
   "outputs": [
    {
     "name": "stdout",
     "output_type": "stream",
     "text": [
      "[1, 2, 3, 4, 5, 6, 7, 8, 9, 10, 11, 12, 13, 14, 15, 16, 17, 18, 19, 20, 21, 22, 23, 24, 25, 26, 27, 28, 29, 30, 31, 32, 33, 34, 35, 36, 37, 38, 39, 40, 41, 42, 43, 44, 45, 46, 47, 48, 49, 50, 51, 52, 53, 54, 55, 56, 57, 58, 59, 60, 61, 62, 63, 64, 65, 66, 67, 68, 69, 70, 71, 72, 73, 74, 75, 76, 77, 78, 79, 80, 81, 82, 83, 84, 85, 86, 87, 88, 89, 90, 91, 92, 93, 94, 95, 96, 97, 98, 99, 100]\n"
     ]
    }
   ],
   "source": [
    "sorted_arr = merge_sort(arr)\n",
    "print(sorted_arr)"
   ],
   "metadata": {
    "collapsed": false,
    "pycharm": {
     "name": "#%%\n"
    }
   }
  },
  {
   "cell_type": "markdown",
   "source": [
    "### 3. 알고리즘 분석\n",
    "  ![merge sort complexity](https://www.fun-coding.org/00_Images/mergesortcomplexity.png)\n",
    "- 각각 depth 에는 $ 2^i $의 노드가 있음\n",
    "- 각각 depth 안에 각각 노드의 리스트 길이는 $ \\frac {n} {2^i} $\n",
    "- 따라서 각 단계는 항상 **$ 2^i * \\frac{n}{2^i} == O(n) $**\n",
    "- depth 는 총 $logn$ 이므로 시간복잡도는 $O(nlogn)$"
   ],
   "metadata": {
    "collapsed": false,
    "pycharm": {
     "name": "#%% md\n"
    }
   }
  },
  {
   "cell_type": "code",
   "execution_count": null,
   "outputs": [],
   "source": [],
   "metadata": {
    "collapsed": false,
    "pycharm": {
     "name": "#%%\n"
    }
   }
  }
 ],
 "metadata": {
  "kernelspec": {
   "name": "python3",
   "language": "python",
   "display_name": "Python 3"
  },
  "language_info": {
   "codemirror_mode": {
    "name": "ipython",
    "version": 2
   },
   "file_extension": ".py",
   "mimetype": "text/x-python",
   "name": "python",
   "nbconvert_exporter": "python",
   "pygments_lexer": "ipython2",
   "version": "2.7.6"
  }
 },
 "nbformat": 4,
 "nbformat_minor": 0
}