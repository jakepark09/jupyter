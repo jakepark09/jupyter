{
 "cells": [
  {
   "cell_type": "markdown",
   "metadata": {
    "collapsed": true,
    "pycharm": {
     "name": "#%% md\n"
    }
   },
   "source": [
    "## 02. Binary Search\n",
    "\n",
    "### 1. 개요\n",
    "- 탐색할 자료를 재귀적으로 둘로 나누어 해당 데이터가 있는 곳을 탐색하는 방법\n",
    "\n",
    "#### Binary Search vs Sequential Search\n",
    "  ![Binary Search vs Sequential Search](https://www.mathwarehouse.com/programming/images/binary-vs-linear-search/binary-and-linear-search-animations.gif)\n",
    "  > 출처 https://blog.penjee.com/binary-vs-linear-search-animated-gifs\n",
    "\n",
    "### 2. 구현"
   ]
  },
  {
   "cell_type": "code",
   "execution_count": 41,
   "outputs": [],
   "source": [
    "def binary_search(data, search):\n",
    "  print(data)\n",
    "  if len(data) == 0 : return False;\n",
    "  if len(data) == 1 : return search == data[0]\n",
    "\n",
    "  mid = len(data)//2\n",
    "  if search == data[mid] : return True\n",
    "  return binary_search(data[:mid] if search < data[mid] else data[mid+1:], search)"
   ],
   "metadata": {
    "collapsed": false,
    "pycharm": {
     "name": "#%%\n"
    }
   }
  },
  {
   "cell_type": "code",
   "execution_count": 42,
   "outputs": [],
   "source": [
    "import random as rd\n",
    "datalist = rd.sample(range(1,101), 50)\n",
    "datalist.sort()"
   ],
   "metadata": {
    "collapsed": false,
    "pycharm": {
     "name": "#%%\n"
    }
   }
  },
  {
   "cell_type": "code",
   "execution_count": 43,
   "outputs": [
    {
     "name": "stdout",
     "output_type": "stream",
     "text": [
      "[1, 2, 3, 4, 5, 6, 7, 8, 9, 10, 12, 15, 16, 17, 20, 21, 27, 28, 29, 30, 32, 35, 37, 41, 42, 47, 49, 51, 54, 55, 56, 57, 58, 61, 62, 63, 64, 65, 68, 69, 75, 81, 82, 83, 85, 90, 93, 94, 97, 100]\n",
      "[1, 2, 3, 4, 5, 6, 7, 8, 9, 10, 12, 15, 16, 17, 20, 21, 27, 28, 29, 30, 32, 35, 37, 41, 42]\n",
      "[17, 20, 21, 27, 28, 29, 30, 32, 35, 37, 41, 42]\n",
      "[17, 20, 21, 27, 28, 29]\n",
      "[17, 20, 21]\n",
      "[21]\n",
      "True\n"
     ]
    }
   ],
   "source": [
    "print(binary_search(datalist, 21))"
   ],
   "metadata": {
    "collapsed": false,
    "pycharm": {
     "name": "#%%\n"
    }
   }
  },
  {
   "cell_type": "code",
   "execution_count": null,
   "outputs": [],
   "source": [],
   "metadata": {
    "collapsed": false,
    "pycharm": {
     "name": "#%%\n"
    }
   }
  }
 ],
 "metadata": {
  "kernelspec": {
   "display_name": "Python 3",
   "language": "python",
   "name": "python3"
  },
  "language_info": {
   "codemirror_mode": {
    "name": "ipython",
    "version": 2
   },
   "file_extension": ".py",
   "mimetype": "text/x-python",
   "name": "python",
   "nbconvert_exporter": "python",
   "pygments_lexer": "ipython2",
   "version": "2.7.6"
  }
 },
 "nbformat": 4,
 "nbformat_minor": 0
}