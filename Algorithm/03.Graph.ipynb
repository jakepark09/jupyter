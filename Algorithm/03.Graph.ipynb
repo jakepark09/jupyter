{
 "cells": [
  {
   "cell_type": "markdown",
   "metadata": {
    "collapsed": true,
    "pycharm": {
     "name": "#%% md\n"
    }
   },
   "source": [
    "## 03. Graph\n",
    "### 1. 개요\n",
    "- 정점(vertex, node) 및 간선(edge)으로 구성된 자료구조\n",
    "- ![graph](https://upload.wikimedia.org/wikipedia/commons/thumb/5/5b/6n-graf.svg/2560px-6n-graf.svg.png)\n",
    "> 출처 : https://ko.wikipedia.org/wiki/%EA%B7%B8%EB%9E%98%ED%94%84_%EC%9D%B4%EB%A1%A0\n",
    "\n",
    "### 2. 용어\n",
    "- 노드 (Node): 위치, 정점 (Vertex)이라고도 함\n",
    "- 간선 (Edge): 위치간의 관계를 표현한 선으로 노드를 연결한 선\n",
    "- 인접 정점 (Adjacent Vertex) : 간선으로 직접 연결된 정점(노드)\n",
    "- 참고용어\n",
    "  + 정점의 차수 (Degree) : 무방향 그래프에서 하나의 정점에 인접한 정점의 수\n",
    "  + 진입 차수 (In-Degree) : 방향 그래프에서 외부에서 오는 간선의 수\n",
    "  + 진출 차수 (Out-Degree) : 방향 그래프에서 외부로 가는 간선의 수\n",
    "  + 단순 경로 (Simple Path) : 처음 정점과 끝 정점을 제외하고 중복된 정점이 없는 경로\n",
    "  + 싸이클 (Cycle) : 단순 경로의 시작과 종료 정점이 동일한 경우\n",
    "\n"
   ]
  }
 ],
 "metadata": {
  "kernelspec": {
   "display_name": "Python 3",
   "language": "python",
   "name": "python3"
  },
  "language_info": {
   "codemirror_mode": {
    "name": "ipython",
    "version": 2
   },
   "file_extension": ".py",
   "mimetype": "text/x-python",
   "name": "python",
   "nbconvert_exporter": "python",
   "pygments_lexer": "ipython2",
   "version": "2.7.6"
  }
 },
 "nbformat": 4,
 "nbformat_minor": 0
}