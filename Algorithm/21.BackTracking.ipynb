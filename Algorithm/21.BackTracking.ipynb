{
 "cells": [
  {
   "cell_type": "markdown",
   "id": "775809f9",
   "metadata": {
    "pycharm": {
     "name": "#%% md\n"
    }
   },
   "source": [
    "### 백트래킹(backtracking) 기법\n",
    "  + 제약조건 만족문제 (Constraint Satisfaction Problem)에서  해를 찾기 위한 전략\n",
    "    - 해를 찾기 위해, 후보군에 제약조건을 점진적으로 체크하다가,\n",
    "      해당 후보군이 제약조건을 만족할 수 없다고 판단되는 즉시 backtrack(다시 이 후보군을 체크하지 않을 것을 표시)\n",
    "      하고 바로 다른 후보군으로 넘어가며, 결국최적의 해를 찾는 방법.\n",
    "  + 실제 구현시 고려할 수 있는 모든 경우의수(후보군)를 상태공간트리(State Space Tree)를 통해 표현.\n",
    "    - 각 후보군을 DFS 방식으로 확인\n",
    "    - 상태공간트리를 탐색하면서, 제약이 맞지 않으면 해의 후보가 될만한 곳으로 바로 넘어가서 탐색.\n",
    "      + Promising: 해당 루트가 조건이 맞는지를 검사하는 기법\n",
    "      + Pruning(가지치기): 조건에 맞지 않으면 포기하고 다른 루트로 바로 돌아서서, 탐색의 시간을 절약하는 기법.\n",
    "\n",
    "    > 즉 백트래킹은 트리 구조를 기반으로 DFS로 깊이 탐색을 진행하면서 각 루트에 대한 조건에 부합하는지 체크(Promising),\n",
    "    > 만약 해당 트리에서 조건에 맞지않는 노드는 더 이상 DFS로 깊이 탐색을 진행하지 않고, 가지를 쳐버림.(Pruning)"
   ]
  },
  {
   "cell_type": "markdown",
   "id": "101381ef",
   "metadata": {
    "pycharm": {
     "name": "#%% md\n"
    }
   },
   "source": [
    "#### 상태공간트리\n",
    "  + 문제 해결 과정의 중간상태를 각각의 노드로 나타낸 트리\n",
    "  <img src='../files/21.backtracking01.png' alt='mst' style='clear: both; height: 300px;' />"
   ]
  },
  {
   "cell_type": "markdown",
   "id": "e4fe61a2",
   "metadata": {
    "pycharm": {
     "name": "#%% md\n"
    }
   },
   "source": [
    "2. N Queen 문제\n",
    "  + 대표적인 백트래킹 문제\n",
    "  + $ N \\times N $ 크기의 체스판에 N개의 퀸을 서로 공격할 수 없도록 배치하는 문제\n",
    "  + 퀸은 다음과 같이 이동할 수 있으므로, 배치된 퀸 간에 공격할 수 없는 위치로 이동하여야 함.\n",
    "  <img src='../files/21.NQueen.png' alt='NQueen' style='clear: both; height: 300px;' />\n",
    "\n",
    "#### Pruning(가지치기)\n",
    "  + 한 행에는 하나의 퀸만 위치할 수 있음(수평이동 가능)\n",
    "  + 맨 위에 있는 행부터 퀸을 배치하고, 다음 행에 해당 퀸이 이동할 수 없는 위치를 찾아 퀸을 배치\n",
    "  + 만약 앞선 행에 배치한 퀸으로 인해, 다음행에 해당 퀸들이 이동할 수 없는 위치가 없을 경우에는, 더이상 퀸을 배치하지 않고 이전 행의 퀸의 배치를 바꿈\n",
    "    - 즉, 맨위의 행부터 전체 행까지 퀸의 배치가 가능한 경우의 수를 상태공간트리 형태로 만든 후, 각 경우를 맨위의 행부터 DFS 방식으로 접근,\n",
    "      해당 경우가 진행이 어려울 경우, 더 이상 진행하지 않고, 다른 경우를 체크.\n",
    "  <img src='../files/21.NQueenPruning.png' alt='NQueenPruning' style='clear: both; height: 300px;' />\n",
    "\n",
    "#### Promising\n",
    "  + 해당 로트가 조건에 맞는지를 검사하는 기법을 활용하여,\n",
    "  + 헌재까지 앞선 행에서 배치한 퀸이 이동할 수 없는 위치가 있는지를 다음과 같은 조건으로 확인\n",
    "    - 한 행에 하나의 퀸만 배치 가능하므로 수평체크 필요없음\n",
    "    - 수직체크: current_col == queen_col\n",
    "    - 대각선체크: abs(queen_col - current_col) == abs(queen_row - current_row)"
   ]
  },
  {
   "cell_type": "code",
   "execution_count": 32,
   "id": "0721f62b",
   "metadata": {},
   "outputs": [],
   "source": [
    "def is_available(candidate, current_col):\n",
    "    current_row = len(candidate)\n",
    "    for queen_row in range(current_row):\n",
    "        if candidate[queen_row] == current_col or abs(candidate[queen_row] - current_col) == current_row - queen_row:\n",
    "            return False\n",
    "    return True\n",
    "\n",
    "def DFS(N, current_row, current_candidate, final_result):\n",
    "    if current_row == N:\n",
    "        final_result.append(current_candidate[:])\n",
    "        return\n",
    "\n",
    "    for candidate_col in range(N):\n",
    "        if is_available(current_candidate, candidate_col):\n",
    "            current_candidate.append(candidate_col)\n",
    "            DFS(N, current_row + 1, current_candidate, final_result)\n",
    "            current_candidate.pop()\n",
    "\n",
    "def solve_n_queens(N):\n",
    "    final_result = []\n",
    "    DFS(N, 0, [], final_result)\n",
    "    return final_result\n"
   ]
  },
  {
   "cell_type": "code",
   "execution_count": 43,
   "id": "4c00eedd",
   "metadata": {},
   "outputs": [
    {
     "data": {
      "text/plain": [
       "[[0, 2, 4, 6, 1, 3, 5],\n",
       " [0, 3, 6, 2, 5, 1, 4],\n",
       " [0, 4, 1, 5, 2, 6, 3],\n",
       " [0, 5, 3, 1, 6, 4, 2],\n",
       " [1, 3, 0, 6, 4, 2, 5],\n",
       " [1, 3, 5, 0, 2, 4, 6],\n",
       " [1, 4, 0, 3, 6, 2, 5],\n",
       " [1, 4, 2, 0, 6, 3, 5],\n",
       " [1, 4, 6, 3, 0, 2, 5],\n",
       " [1, 5, 2, 6, 3, 0, 4],\n",
       " [1, 6, 4, 2, 0, 5, 3],\n",
       " [2, 0, 5, 1, 4, 6, 3],\n",
       " [2, 0, 5, 3, 1, 6, 4],\n",
       " [2, 4, 6, 1, 3, 5, 0],\n",
       " [2, 5, 1, 4, 0, 3, 6],\n",
       " [2, 6, 1, 3, 5, 0, 4],\n",
       " [2, 6, 3, 0, 4, 1, 5],\n",
       " [3, 0, 2, 5, 1, 6, 4],\n",
       " [3, 0, 4, 1, 5, 2, 6],\n",
       " [3, 1, 6, 4, 2, 0, 5],\n",
       " [3, 5, 0, 2, 4, 6, 1],\n",
       " [3, 6, 2, 5, 1, 4, 0],\n",
       " [3, 6, 4, 1, 5, 0, 2],\n",
       " [4, 0, 3, 6, 2, 5, 1],\n",
       " [4, 0, 5, 3, 1, 6, 2],\n",
       " [4, 1, 5, 2, 6, 3, 0],\n",
       " [4, 2, 0, 5, 3, 1, 6],\n",
       " [4, 6, 1, 3, 5, 0, 2],\n",
       " [4, 6, 1, 5, 2, 0, 3],\n",
       " [5, 0, 2, 4, 6, 1, 3],\n",
       " [5, 1, 4, 0, 3, 6, 2],\n",
       " [5, 2, 0, 3, 6, 4, 1],\n",
       " [5, 2, 4, 6, 0, 3, 1],\n",
       " [5, 2, 6, 3, 0, 4, 1],\n",
       " [5, 3, 1, 6, 4, 2, 0],\n",
       " [5, 3, 6, 0, 2, 4, 1],\n",
       " [6, 1, 3, 5, 0, 2, 4],\n",
       " [6, 2, 5, 1, 4, 0, 3],\n",
       " [6, 3, 0, 4, 1, 5, 2],\n",
       " [6, 4, 2, 0, 5, 3, 1]]"
      ]
     },
     "execution_count": 43,
     "metadata": {},
     "output_type": "execute_result"
    }
   ],
   "source": [
    "solve_n_queens(7)"
   ]
  },
  {
   "cell_type": "code",
   "execution_count": 42,
   "id": "f3144a83",
   "metadata": {},
   "outputs": [
    {
     "name": "stdout",
     "output_type": "stream",
     "text": [
      "hello\n"
     ]
    }
   ],
   "source": [
    "print(\"hello\")"
   ]
  },
  {
   "cell_type": "code",
   "execution_count": null,
   "id": "bf800780",
   "metadata": {},
   "outputs": [],
   "source": []
  }
 ],
 "metadata": {
  "kernelspec": {
   "display_name": "Python 3",
   "language": "python",
   "name": "python3"
  },
  "language_info": {
   "codemirror_mode": {
    "name": "ipython",
    "version": 3
   },
   "file_extension": ".py",
   "mimetype": "text/x-python",
   "name": "python",
   "nbconvert_exporter": "python",
   "pygments_lexer": "ipython3",
   "version": "3.9.5"
  }
 },
 "nbformat": 4,
 "nbformat_minor": 5
}