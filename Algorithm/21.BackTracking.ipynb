{
 "cells": [
  {
   "cell_type": "markdown",
   "id": "775809f9",
   "metadata": {
    "pycharm": {
     "name": "#%% md\n"
    }
   },
   "source": [
    "### 백트래킹(backtracking) 기법의 이해\n",
    "1. 백트래킹(backtracking) 또는 퇴각검색(backtrack)으로 부름.\n",
    "  + 제약조건 만족문제 (Constraint Satisfaction Problem)에서  해를 찾기 위한 전략\n",
    "    - 해를 차기 위해, 후보군에 제약조건을 점진적으로 체크하다가,\n",
    "      해당 후보군이 제약조건을 만족할 수 없다고 판단되는 즉시 backtrack(다시 이 후보군을 체크하지 않을 것을 표시)\n",
    "      하고 바로 다른 후보군으로 넘어가며, 결국최적의 해를 찾는 방법.\n",
    "  + 실제 구현시 고려할 수 있는 모든 경우의수(후보군)를 상태공간트리(State Space Tree)를 통해 표현.\n",
    "    - 각 후보군을 DFS 방식으로 확인\n",
    "    - 상태공간트리를 탐색하면서, 제약이 맞지 않으면 해의 후보가 될만한 곳으로 바로 넘어가서 탐색.\n",
    "      + Promising: 해당 루트가 조건이 맞는지를 검사하는 기법\n",
    "      + Pruning(가지치기): 조건에 맞지 않으면 포기하고 다른 루트로 바로 돌아서서, 탐색의 시간을 절약하는 기법.\n",
    "\n",
    "    > 즉 백트래킹은 트리 구조를 기반으로 DFS로 깊이 탐색을 진행하면서 각 루트에 대한 조건에 부합하는지 체크(Promising),\n",
    "    > 만약 해당 트리에서 조건에 맞지않는 노드는 더 이상 DFS로 깊이 탐색을 진행하지 않고, 가지를 쳐버림.(Pruning)"
   ]
  },
  {
   "cell_type": "markdown",
   "source": [
    "### 상태공간트리\n",
    "  + 문제 해결 과정의 중간상태를 각각의 노드로 나타낸 트리\n",
    "  <img src='../files/21.backtracking01.png' alt='mst' style='clear: both; height: 300px;' />"
   ],
   "metadata": {
    "collapsed": false,
    "pycharm": {
     "name": "#%% md\n"
    }
   }
  }
 ],
 "metadata": {
  "kernelspec": {
   "display_name": "Python 3",
   "language": "python",
   "name": "python3"
  },
  "language_info": {
   "codemirror_mode": {
    "name": "ipython",
    "version": 3
   },
   "file_extension": ".py",
   "mimetype": "text/x-python",
   "name": "python",
   "nbconvert_exporter": "python",
   "pygments_lexer": "ipython3",
   "version": "3.9.5"
  }
 },
 "nbformat": 4,
 "nbformat_minor": 5
}