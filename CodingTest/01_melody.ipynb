{
 "cells": [
  {
   "cell_type": "code",
   "execution_count": 2,
   "id": "fd552db9",
   "metadata": {},
   "outputs": [],
   "source": [
    "def melody(a):\n",
    "    ascending = True\n",
    "    descending = True\n",
    "    for i in range(1, len(a)):\n",
    "        if a[i] > a[i-1]:\n",
    "            descending = False\n",
    "        elif a[i] < a[i-1]:\n",
    "            ascending = False\n",
    "\n",
    "    if ascending:\n",
    "        print(\"ascending\")\n",
    "    elif descending:\n",
    "        print(\"descending\")\n",
    "    else:\n",
    "        print(\"mixed\")"
   ]
  },
  {
   "cell_type": "code",
   "execution_count": 37,
   "id": "7a8bdd89",
   "metadata": {},
   "outputs": [
    {
     "name": "stdout",
     "output_type": "stream",
     "text": [
      "i: 7\n",
      "decending\n",
      "mixed\n",
      "i: 7\n",
      "ascending\n"
     ]
    }
   ],
   "source": [
    "melody([8,7,6,5,4,3,2,1])\n",
    "melody([8,3,6,5,4,7,2,1])\n",
    "melody([1,2,3,4,5,6,7,8])"
   ]
  },
  {
   "cell_type": "code",
   "execution_count": 41,
   "id": "2a8525d5",
   "metadata": {},
   "outputs": [
    {
     "name": "stdout",
     "output_type": "stream",
     "text": [
      "ascending\n"
     ]
    }
   ],
   "source": [
    "a = [1,2,3,4,5,6,7,8]\n",
    "ascending = True\n",
    "descending = True\n",
    "for i in range(1, len(a)):\n",
    "    if a[i] > a[i-1]:\n",
    "        descending = False\n",
    "    elif a[i] < a[i-1]:\n",
    "        ascending = False\n",
    "   \n",
    "if ascending:\n",
    "    print(\"ascending\")\n",
    "elif descending:\n",
    "    print(\"descending\")\n",
    "else:\n",
    "    print(\"mixed\")"
   ]
  },
  {
   "cell_type": "code",
   "execution_count": 50,
   "id": "3519df35",
   "metadata": {},
   "outputs": [],
   "source": [
    "a,b,c,d,e,f,g= map(int ,\"1 2 3 4 5 6 7\".split(' '))\n"
   ]
  },
  {
   "cell_type": "code",
   "execution_count": 51,
   "id": "d847e70f",
   "metadata": {
    "scrolled": true
   },
   "outputs": [
    {
     "data": {
      "text/plain": [
       "1"
      ]
     },
     "execution_count": 51,
     "metadata": {},
     "output_type": "execute_result"
    }
   ],
   "source": [
    "a"
   ]
  },
  {
   "cell_type": "code",
   "execution_count": 49,
   "id": "6f7d9705",
   "metadata": {},
   "outputs": [
    {
     "ename": "TypeError",
     "evalue": "'map' object is not subscriptable",
     "output_type": "error",
     "traceback": [
      "\u001B[0;31m---------------------------------------------------------------------------\u001B[0m",
      "\u001B[0;31mTypeError\u001B[0m                                 Traceback (most recent call last)",
      "\u001B[0;32m<ipython-input-49-6a1284577a36>\u001B[0m in \u001B[0;36m<module>\u001B[0;34m\u001B[0m\n\u001B[0;32m----> 1\u001B[0;31m \u001B[0ma\u001B[0m\u001B[0;34m[\u001B[0m\u001B[0;36m0\u001B[0m\u001B[0;34m]\u001B[0m\u001B[0;34m\u001B[0m\u001B[0;34m\u001B[0m\u001B[0m\n\u001B[0m",
      "\u001B[0;31mTypeError\u001B[0m: 'map' object is not subscriptable"
     ]
    }
   ],
   "source": [
    "a[0]"
   ]
  },
  {
   "cell_type": "code",
   "execution_count": null,
   "id": "b8aad222",
   "metadata": {},
   "outputs": [],
   "source": []
  }
 ],
 "metadata": {
  "kernelspec": {
   "display_name": "Python 3",
   "language": "python",
   "name": "python3"
  },
  "language_info": {
   "codemirror_mode": {
    "name": "ipython",
    "version": 3
   },
   "file_extension": ".py",
   "mimetype": "text/x-python",
   "name": "python",
   "nbconvert_exporter": "python",
   "pygments_lexer": "ipython3",
   "version": "3.9.5"
  }
 },
 "nbformat": 4,
 "nbformat_minor": 5
}