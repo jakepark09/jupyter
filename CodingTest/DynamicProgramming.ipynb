{
 "cells": [
  {
   "cell_type": "markdown",
   "id": "2ae7ed64",
   "metadata": {
    "pycharm": {
     "name": "#%% md\n"
    }
   },
   "source": [
    "### 동적프로그래밍 Dynamic Programming\n",
    "#### 사용이유 ex) 피보나치 배열\n",
    "- 가장 단순한 구현방법은 reculsive 이다."
   ]
  },
  {
   "cell_type": "code",
   "execution_count": 24,
   "id": "d4f37d40",
   "metadata": {
    "pycharm": {
     "name": "#%%\n"
    }
   },
   "outputs": [],
   "source": [
    "def fib(n):\n",
    "    return (fib(n-1) + fib(n-2)) if (n > 1) else n"
   ]
  },
  {
   "cell_type": "code",
   "execution_count": 29,
   "id": "a30d0079",
   "metadata": {
    "pycharm": {
     "name": "#%%\n"
    }
   },
   "outputs": [
    {
     "data": {
      "text/plain": [
       "89"
      ]
     },
     "execution_count": 29,
     "metadata": {},
     "output_type": "execute_result"
    }
   ],
   "source": [
    "fib(11)"
   ]
  },
  {
   "cell_type": "markdown",
   "id": "0cb40e34",
   "metadata": {
    "pycharm": {
     "name": "#%% md\n"
    }
   },
   "source": [
    "<img src=\"../files/fib_tree.png\" alt=\"fib tree\" />\n",
    "6번째 fibonacci 수를 구할때 총 23번의 호출이 이루어졌다.\n",
    "fib(5) : 1번\n",
    "fib(4) : 2번\n",
    "fib(3) : 3번\n",
    "fib(2) : 5번\n",
    "fib(1) : 7번\n",
    "fib(0) : 4번"
   ]
  },
  {
   "cell_type": "markdown",
   "id": "9b2895a5",
   "metadata": {
    "pycharm": {
     "name": "#%% md\n"
    }
   },
   "source": [
    "memoization 이용."
   ]
  },
  {
   "cell_type": "code",
   "execution_count": 17,
   "id": "e879c861",
   "metadata": {
    "pycharm": {
     "name": "#%%\n"
    }
   },
   "outputs": [],
   "source": [
    "def fib_memo(n):\n",
    "    memo = [0 for i in range(n+1)]\n",
    "    memo[0] = 0\n",
    "    memo[1] = 1\n",
    "    for i in range(2, n+1):\n",
    "        memo[i] = memo[i-2] + memo[i-1]\n",
    "    return memo[n]"
   ]
  },
  {
   "cell_type": "code",
   "execution_count": 18,
   "id": "0a10b713",
   "metadata": {
    "pycharm": {
     "name": "#%%\n"
    }
   },
   "outputs": [
    {
     "data": {
      "text/plain": [
       "13"
      ]
     },
     "execution_count": 18,
     "metadata": {},
     "output_type": "execute_result"
    }
   ],
   "source": [
    "fib_memo(7)"
   ]
  },
  {
   "cell_type": "code",
   "execution_count": null,
   "id": "1400f86e",
   "metadata": {
    "pycharm": {
     "name": "#%%\n"
    }
   },
   "outputs": [],
   "source": []
  }
 ],
 "metadata": {
  "kernelspec": {
   "display_name": "Python 3",
   "language": "python",
   "name": "python3"
  },
  "language_info": {
   "codemirror_mode": {
    "name": "ipython",
    "version": 3
   },
   "file_extension": ".py",
   "mimetype": "text/x-python",
   "name": "python",
   "nbconvert_exporter": "python",
   "pygments_lexer": "ipython3",
   "version": "3.8.2"
  }
 },
 "nbformat": 4,
 "nbformat_minor": 5
}