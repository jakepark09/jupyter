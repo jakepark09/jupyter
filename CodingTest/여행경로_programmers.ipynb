{
 "cells": [
  {
   "cell_type": "markdown",
   "id": "2924015e",
   "metadata": {
    "pycharm": {
     "name": "#%% md\n"
    }
   },
   "source": [
    "## 여행경로 - 프로그래머스 문제\n",
    "\n",
    "### 문제 설명\n",
    "\n",
    "> 주어진 항공권을 모두 이용하여 여행경로를 짜려고 합니다. 항상 \"ICN\" 공항에서 출발합니다.\n",
    "> 항공권 정보가 담긴 2차원 배열 tickets가 매개변수로 주어질 때, 방문하는 공항 경로를 배열에 담아 return 하도록 solution 함수를 작성해주세요.\n",
    "\n",
    "### 제한사항\n",
    "- 모든 공항은 알파벳 대문자 3글자로 이루어집니다.\n",
    "- 주어진 공항 수는 3개 이상 10,000개 이하입니다.\n",
    "- tickets의 각 행 [a, b]는 a 공항에서 b 공항으로 가는 항공권이 있다는 의미입니다.\n",
    "- 주어진 항공권은 모두 사용해야 합니다.\n",
    "- 만일 가능한 경로가 2개 이상일 경우 알파벳 순서가 앞서는 경로를 return 합니다.\n",
    "- 모든 도시를 방문할 수 없는 경우는 주어지지 않습니다.\n",
    "\n",
    "### 입출력 예\n",
    "|tickets|return|\n",
    "|:-----:|:----:|\n",
    "|[[\"ICN\", \"JFK\"], [\"HND\", \"IAD\"], [\"JFK\", \"HND\"]]|[\"ICN\", \"JFK\", \"HND\", \"IAD\"]|\n",
    "|[[\"ICN\", \"SFO\"], [\"ICN\", \"ATL\"], [\"SFO\", \"ATL\"], [\"ATL\", \"ICN\"], [\"ATL\",\"SFO\"]]|[\"ICN\", \"ATL\", \"ICN\", \"SFO\", \"ATL\", \"SFO\"]|\n",
    "\n",
    "### 입출력 예 설명\n",
    "#### 예제 #1\n",
    "> [\"ICN\", \"JFK\", \"HND\", \"IAD\"] 순으로 방문할 수 있습니다.\n",
    "#### 예제 #2\n",
    "> [\"ICN\", \"SFO\", \"ATL\", \"ICN\", \"ATL\", \"SFO\"] 순으로 방문할 수도 있지만\n",
    "> [\"ICN\", \"ATL\", \"ICN\", \"SFO\", \"ATL\", \"SFO\"] 가 알파벳 순으로 앞섭니다.\n",
    "\n",
    "### 문제풀이\n",
    "- 그래프 자료구조를 이용하여 풀이\n",
    "- 공항들을 vertex, 경로를 edge 로 사용\n",
    "<img src=\"../files/여행경로_graph.png\" alt=\"여행경로 graph\">\n",
    "- 깊이 우선 탐색(DFS) 용용\n",
    "- 한붓그리기 가능여부는 문제에서 보장되어있음.\n",
    "- 시작 정점은 언제나 ICN\n",
    "- 모든 edge를 거쳐야함.\n",
    "- 한 vertex에서 택할수 있는 edge가 두개 이상일 경우 : 알파벳 순서로 결정.\n",
    "\n",
    "### 알고리즘 설계\n",
    "- 스택을 이용하여 재귀적인 한붓 그리기\n",
    "- DFS 알고리즘 응용\n",
    "\n",
    "### 구현\n",
    "#### 딕셔너리를 이용하여 각 곡항에서 출발하는 항공권의 집합을 표현\n",
    "> ICN -> [SFO,ATL]  \n",
    "> ATL -> [SFO,ICN]  \n",
    "> SFO -> [ATL]  \n",
    "  - 알파벳 역순으로 정렬"
   ]
  },
  {
   "cell_type": "code",
   "execution_count": 9,
   "id": "22f1e2f9",
   "metadata": {
    "pycharm": {
     "name": "#%%\n"
    }
   },
   "outputs": [
    {
     "name": "stdout",
     "output_type": "stream",
     "text": [
      "hello\n"
     ]
    }
   ],
   "source": [
    "print('hello')"
   ]
  },
  {
   "cell_type": "code",
   "execution_count": 21,
   "id": "5bbc2582",
   "metadata": {
    "pycharm": {
     "name": "#%%\n"
    }
   },
   "outputs": [],
   "source": [
    "def solution(tickets):\n",
    "    routes = {}\n",
    "    for t in tickets:\n",
    "        routes[t[0]] = routes.get(t[0],[]) + [t[1]]\n",
    "        print(\"ticket: \", t, \"routes: \", routes)\n",
    "    for r in routes:\n",
    "        routes[r].sort(reverse=True)\n",
    "    stack = [\"ICN\"]\n",
    "    path = []\n",
    "    while len(stack) > 0:\n",
    "        top = stack[-1]\n",
    "        if top not in routes or len(routes[top]) == 0:\n",
    "            path.append(stack.pop())\n",
    "        else:\n",
    "            stack.append(routes[top][-1])\n",
    "            routes[top] = routes[top][:-1]\n",
    "    return path[::-1]\n",
    "    "
   ]
  },
  {
   "cell_type": "code",
   "execution_count": 22,
   "id": "e231b3fc",
   "metadata": {},
   "outputs": [],
   "source": [
    "tickets1 = [[\"ICN\", \"JFK\"], [\"HND\", \"IAD\"], [\"JFK\", \"HND\"]]"
   ]
  },
  {
   "cell_type": "code",
   "execution_count": 23,
   "id": "ff913f97",
   "metadata": {},
   "outputs": [
    {
     "name": "stdout",
     "output_type": "stream",
     "text": [
      "ticket:  ['ICN', 'JFK'] routes:  {'ICN': ['JFK']}\n",
      "ticket:  ['HND', 'IAD'] routes:  {'ICN': ['JFK'], 'HND': ['IAD']}\n",
      "ticket:  ['JFK', 'HND'] routes:  {'ICN': ['JFK'], 'HND': ['IAD'], 'JFK': ['HND']}\n"
     ]
    },
    {
     "data": {
      "text/plain": "['ICN', 'JFK', 'HND', 'IAD']"
     },
     "execution_count": 23,
     "metadata": {},
     "output_type": "execute_result"
    }
   ],
   "source": [
    "solution(tickets1)"
   ]
  },
  {
   "cell_type": "code",
   "execution_count": 19,
   "id": "c2ce2bf3",
   "metadata": {},
   "outputs": [],
   "source": [
    "tickets2 = [[\"ICN\", \"SFO\"], [\"ICN\", \"ATL\"], [\"SFO\", \"ATL\"], [\"ATL\", \"ICN\"], [\"ATL\",\"SFO\"]]"
   ]
  },
  {
   "cell_type": "code",
   "execution_count": 20,
   "id": "4bf5b2ae",
   "metadata": {},
   "outputs": [
    {
     "name": "stdout",
     "output_type": "stream",
     "text": [
      "ticket:  ['ICN', 'SFO'] routes:  {'ICN': ['SFO']}\n",
      "ticket:  ['ICN', 'ATL'] routes:  {'ICN': ['SFO', 'ATL']}\n",
      "ticket:  ['SFO', 'ATL'] routes:  {'ICN': ['SFO', 'ATL'], 'SFO': ['ATL']}\n",
      "ticket:  ['ATL', 'ICN'] routes:  {'ICN': ['SFO', 'ATL'], 'SFO': ['ATL'], 'ATL': ['ICN']}\n",
      "ticket:  ['ATL', 'SFO'] routes:  {'ICN': ['SFO', 'ATL'], 'SFO': ['ATL'], 'ATL': ['ICN', 'SFO']}\n"
     ]
    },
    {
     "data": {
      "text/plain": [
       "['ICN', 'ATL', 'ICN', 'SFO', 'ATL', 'SFO']"
      ]
     },
     "execution_count": 20,
     "metadata": {},
     "output_type": "execute_result"
    }
   ],
   "source": [
    "solution(tickets2)"
   ]
  },
  {
   "cell_type": "code",
   "execution_count": null,
   "id": "f6615e23",
   "metadata": {},
   "outputs": [],
   "source": []
  }
 ],
 "metadata": {
  "kernelspec": {
   "display_name": "Python 3",
   "language": "python",
   "name": "python3"
  },
  "language_info": {
   "codemirror_mode": {
    "name": "ipython",
    "version": 3
   },
   "file_extension": ".py",
   "mimetype": "text/x-python",
   "name": "python",
   "nbconvert_exporter": "python",
   "pygments_lexer": "ipython3",
   "version": "3.8.2"
  }
 },
 "nbformat": 4,
 "nbformat_minor": 5
}