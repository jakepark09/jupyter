{
 "cells": [
  {
   "cell_type": "markdown",
   "id": "9dc2058c",
   "metadata": {},
   "source": [
    "## 문제 설명\n",
    "\n",
    "<img src=\"https://grepp-programmers.s3.amazonaws.com/files/production/97ec02cc39/296a0863-a418-431d-9e8c-e57f7a9722ac.png\" alt=\"\" /> \n",
    "<br />\n",
    "\n",
    "- 위와 같은 삼각형의 꼭대기에서 바닥까지 이어지는 경로 중, 거쳐간 숫자의 합이 가장 큰 경우를 찾아보려고 합니다.  \n",
    "- 아래 칸으로 이동할 때는 대각선 방향으로 한 칸 오른쪽 또는 왼쪽으로만 이동 가능합니다.  \n",
    "- 예를 들어 3에서는 그 아래칸의 8 또는 1로만 이동이 가능합니다.  \n",
    "\n",
    "- 삼각형의 정보가 담긴 배열 triangle이 매개변수로 주어질 때, 거쳐간 숫자의 최댓값을 return 하도록 solution 함수를 완성하세요.\n",
    "\n",
    "## 제한사항\n",
    "- 삼각형의 높이는 1 이상 500 이하입니다.  \n",
    "- 삼각형을 이루고 있는 숫자는 0 이상 9,999 이하의 정수입니다.\n",
    "\n",
    "## 입출력 예\n",
    "|triangle|result|\n",
    "|--------|------|\n",
    "|[[7], [3, 8], [8, 1, 0], [2, 7, 4, 4], [4, 5, 2, 6, 5]]|30|\n",
    "\n"
   ]
  },
  {
   "attachments": {},
   "cell_type": "markdown",
   "id": "a0d74afc",
   "metadata": {},
   "source": [
    "## 문제 풀이\n",
    "- 맨 아래에서 부터 left_child와 right_child의 값을 비교하여 큰 값을 parent의 값에 더함.\n",
    "    <img src=\"../files/정수삼각형1.png\" alt=\"정수삼각형1\" />  \n",
    "    <img src=\"../files/정수삼각형2.png\" alt=\"정수삼각형2\" />  \n",
    "    <img src=\"../files/정수삼각형3.png\" alt=\"정수삼각형3\" />  \n",
    "    <img src=\"../files/정수삼각형4.png\" alt=\"정수삼각형4\" />  \n",
    "- triangle[0][0] 반환"
   ]
  },
  {
   "cell_type": "code",
   "execution_count": 2,
   "id": "93d8a00b",
   "metadata": {},
   "outputs": [],
   "source": [
    "def solution(triangle):\n",
    "    for i in range(len(triangle)-2, -1, -1):\n",
    "        for j in range(len(triangle[i])):\n",
    "            triangle[i][j] += max(triangle[i+1][j], triangle[i+1][j+1])\n",
    "        print(triangle[:i+1])\n",
    "    return triangle[0][0]"
   ]
  },
  {
   "cell_type": "code",
   "execution_count": 3,
   "id": "aa56a602",
   "metadata": {},
   "outputs": [],
   "source": [
    "sample_triangle = [[7], [3, 8], [8, 1, 0], [2, 7, 4, 4], [4, 5, 2, 6, 5]]"
   ]
  },
  {
   "cell_type": "code",
   "execution_count": 4,
   "id": "a61b91e8",
   "metadata": {},
   "outputs": [
    {
     "name": "stdout",
     "output_type": "stream",
     "text": [
      "[[7], [3, 8], [8, 1, 0], [7, 12, 10, 10]]\n",
      "[[7], [3, 8], [20, 13, 10]]\n",
      "[[7], [23, 21]]\n",
      "[[30]]\n"
     ]
    },
    {
     "data": {
      "text/plain": [
       "30"
      ]
     },
     "execution_count": 4,
     "metadata": {},
     "output_type": "execute_result"
    }
   ],
   "source": [
    "solution(sample_triangle)"
   ]
  },
  {
   "cell_type": "code",
   "execution_count": null,
   "id": "4041d9b7",
   "metadata": {},
   "outputs": [],
   "source": []
  }
 ],
 "metadata": {
  "kernelspec": {
   "display_name": "Python 3",
   "language": "python",
   "name": "python3"
  },
  "language_info": {
   "codemirror_mode": {
    "name": "ipython",
    "version": 3
   },
   "file_extension": ".py",
   "mimetype": "text/x-python",
   "name": "python",
   "nbconvert_exporter": "python",
   "pygments_lexer": "ipython3",
   "version": "3.9.5"
  }
 },
 "nbformat": 4,
 "nbformat_minor": 5
}
